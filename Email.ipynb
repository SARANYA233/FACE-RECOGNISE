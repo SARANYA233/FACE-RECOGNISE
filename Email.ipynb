{
 "cells": [
  {
   "cell_type": "code",
   "execution_count": null,
   "metadata": {},
   "outputs": [],
   "source": [
    "import cv2,numpy"
   ]
  },
  {
   "cell_type": "code",
   "execution_count": null,
   "metadata": {},
   "outputs": [],
   "source": [
    "cap = cv2.VideoCapture(0)"
   ]
  },
  {
   "cell_type": "code",
   "execution_count": null,
   "metadata": {},
   "outputs": [],
   "source": [
    "ret, pic = cap.read()"
   ]
  },
  {
   "cell_type": "code",
   "execution_count": null,
   "metadata": {},
   "outputs": [],
   "source": [
    "model = cv2.CascadeClassifier('FR.xml')"
   ]
  },
  {
   "cell_type": "code",
   "execution_count": null,
   "metadata": {},
   "outputs": [],
   "source": [
    "while True:\n",
    "    ret, photo = cap.read()\n",
    "    faces =  model.detectMultiScale(pic)\n",
    "    if  len(faces) == 0:\n",
    "        pass\n",
    "    else:\n",
    "        x1=faces[0][0]\n",
    "        y1=faces[0][1]\n",
    "        x2=x1 + faces[0][2]\n",
    "        y2=y1 + faces[0][3]\n",
    "\n",
    "        aphoto = cv2.rectangle(photo, (x1,y1),(x2,y2), [0,255,0], 5 )\n",
    "        cphoto = photo[y1:y2 , x1:x2]\n",
    "        cv2.imshow('pic', aphoto)\n",
    "        cv2.imshow('crop', cphoto)\n",
    "        img = './image/'+'Dhoni'+'.jpg'\n",
    "        cv2.imwrite(img ,cphoto)\n",
    "        if cv2.waitKey(200) == 13:\n",
    "            break\n",
    "        \n",
    "        \n",
    "cv2.destroyAllWindows()\n",
    "cap.release()"
   ]
  },
  {
   "cell_type": "code",
   "execution_count": null,
   "metadata": {},
   "outputs": [],
   "source": [
    "if len(faces) == 0:\n",
    "    pass\n",
    "else:\n",
    "    import smtplib\n",
    "    from email.mime.multipart import MIMEMultipart\n",
    "    from email.mime.text import MIMEText\n",
    "    from email.mime.base import MIMEBase\n",
    "    from email import encoders\n",
    "    \n",
    "    mail_content = '''This is face of saranya.s'''\n",
    "    \n",
    "    #The mail addresses and password\n",
    "    \n",
    "    sender_address = 'saranyasrissss1523@gmail.com'\n",
    "    sender_pass = 'gjyb7gbyhbjhybgtftcvygh'\n",
    "    receiver_address = 'microsoft152321@gmail.com'\n",
    "    \n",
    "    #Setup the MIME\n",
    "    message = MIMEMultipart()\n",
    "    message['From'] = sender_address\n",
    "    message['To'] = receiver_address\n",
    "    message['Subject'] = 'A test mail sent by Python. It has an attachment.'\n",
    "    \n",
    "    #The subject line\n",
    "    #The body and the attachments for the mail\n",
    "    message.attach(MIMEText(mail_content, 'plain'))\n",
    "    attach_file_name = './image/Dhoni.jpg'\n",
    "    attach_file = open(attach_file_name, 'rb') # Open the file as binary mode\n",
    "    payload = MIMEBase('application', 'octate-stream')\n",
    "    payload.set_payload((attach_file).read())\n",
    "    encoders.encode_base64(payload) #encode the attachment\n",
    "    \n",
    "    #add payload header with filename\n",
    "    payload.add_header('Content-Decomposition', 'attachment', filename=attach_file_name)\n",
    "    message.attach(payload)\n",
    "  \n",
    "    #Create SMTP session for sending the mail\n",
    "    session = smtplib.SMTP('smtp.gmail.com', 587) #use gmail with port\n",
    "    session.starttls() #enable security\n",
    "    session.login(sender_address, sender_pass) #login with mail_id and password\n",
    "    text = message.as_string()\n",
    "    session.sendmail(sender_address, receiver_address, text)\n",
    "    session.quit()\n",
    "    \n",
    "    print('Mail Sent')\n",
    "    \n",
    "    import pywhatkit as kit\n",
    "    kit.sendwhatmsg(\"+919176748348\", \"TASK COMPLETED !!!\", 18, 19)"
   ]
  },
  {
   "cell_type": "code",
   "execution_count": null,
   "metadata": {},
   "outputs": [],
   "source": []
  }
 ],
 "metadata": {
  "kernelspec": {
   "display_name": "Python 3",
   "language": "python",
   "name": "python3"
  },
  "language_info": {
   "codemirror_mode": {
    "name": "ipython",
    "version": 3
   },
   "file_extension": ".py",
   "mimetype": "text/x-python",
   "name": "python",
   "nbconvert_exporter": "python",
   "pygments_lexer": "ipython3",
   "version": "3.8.3"
  }
 },
 "nbformat": 4,
 "nbformat_minor": 4
}
