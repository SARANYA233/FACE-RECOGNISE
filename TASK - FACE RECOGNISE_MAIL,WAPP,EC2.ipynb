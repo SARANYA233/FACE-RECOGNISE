{
 "cells": [
  {
   "cell_type": "markdown",
   "metadata": {},
   "source": [
    "                                       ✔STEP : 1 - COLLECTING DATASETS"
   ]
  },
  {
   "cell_type": "code",
   "execution_count": 2,
   "metadata": {},
   "outputs": [
    {
     "name": "stdout",
     "output_type": "stream",
     "text": [
      "ENTER USER-ID : 2\n",
      "DATASET COLLECTED !!!\n"
     ]
    }
   ],
   "source": [
    "# To use opencv we need to import the opencv module\n",
    "import cv2\n",
    "\n",
    "# To import numpy module\n",
    "import numpy as np \n",
    "\n",
    "# Load the classifier :: Frontal Face Detection\n",
    "Face_Detect = cv2.CascadeClassifier('FR.xml');\n",
    "\n",
    "# Video capture : '0' - for inbuilt webcam ; '1' - for other webcam\n",
    "cap = cv2.VideoCapture(0);\n",
    "\n",
    "# Get User Id\n",
    "id = input('ENTER USER-ID : ')\n",
    "\n",
    "# Initialise counter variable\n",
    "Num = 0;\n",
    "\n",
    "#Start Main Loop\n",
    "# Take 100 images from video and save it in \"DataSet\" folder which is created previously\n",
    "while(True):\n",
    "    \n",
    "    ret, img = cap.read()\n",
    "    # Convert image color to gray\n",
    "    gray = cv2.cvtColor(img, cv2.COLOR_BGR2GRAY)\n",
    "    # Detect faces in captured image\n",
    "    faces = Face_Detect.detectMultiScale(gray, 1.3, 5);\n",
    "    for (x,y,w,h) in faces:\n",
    "        Num = Num+1;\n",
    "        # saving images \n",
    "        cv2.imwrite(\"DataSet/User.\" + str(id) + '.' + str(Num) + \".jpg\", gray[y:y+h,x:x+w])\n",
    "        # Draw rec for only detected face \n",
    "        cv2.rectangle(img,(x,y),(x+w,y+h),(0,0,255),2)\n",
    "        cv2.waitKey(100);\n",
    "    # Display captured images\n",
    "    cv2.imshow('Face',img);\n",
    "\n",
    "    cv2.waitKey(1);\n",
    "    if (Num>=50):\n",
    "        break\n",
    "\n",
    "# Release camera\n",
    "cap.release()\n",
    "\n",
    "# Close windows\n",
    "cv2.destroyAllWindows()\n",
    "\n",
    "print (\"DATASET COLLECTED !!!\")"
   ]
  },
  {
   "cell_type": "markdown",
   "metadata": {},
   "source": [
    "                                     ✔STEP : 2  - TRAINING MODEL"
   ]
  },
  {
   "cell_type": "code",
   "execution_count": null,
   "metadata": {},
   "outputs": [],
   "source": [
    "import cv2\n",
    "import numpy as np\n",
    "import os\n",
    "from os import listdir\n",
    "from os.path import isfile, join\n",
    "\n",
    "# Get the training data we previously made\n",
    "data_path = './DataSet/'\n",
    "onlyfiles = [f for f in listdir(data_path) if isfile(join(data_path, f))]\n",
    "\n",
    "# Create arrays for training data and labels\n",
    "IDs, faces = [], []\n",
    "\n",
    "# Open training images in our datapath\n",
    "# Create a numpy array for training data\n",
    "\n",
    "for i, files in enumerate(onlyfiles):\n",
    "    image_path = data_path + onlyfiles[i]\n",
    "    images = cv2.imread(image_path, cv2.IMREAD_GRAYSCALE)\n",
    "    faces.append(np.asarray(images, dtype=np.uint8))\n",
    "    ID=int(os.path.split(image_path)[-1].split(\".\")[1])\n",
    "    IDs.append(ID)\n",
    "\n",
    "# Create a numpy array for both training data and labels\n",
    "IDs = np.asarray(IDs, dtype=np.int32)\n",
    "\n",
    "# Initialize facial recognizer\n",
    "#model = cv2.face.createLBPHFaceRecognizer()\n",
    "# NOTE: For OpenCV 3.0 use cv2.face.createLBPHFaceRecognizer()\n",
    "# pip install opencv-contrib-python\n",
    "#model = cv2.createLBPHFaceRecognizer()\n",
    "\n",
    "model  = cv2.face_LBPHFaceRecognizer.create()\n",
    "# Let's train our model \n",
    "model.train(np.asarray(faces), np.asarray(IDs))\n",
    "model.save('Recognizer/trainningData.yml')\n",
    "\n",
    "print(\"TRAINED MODEL !!!\")\n"
   ]
  },
  {
   "cell_type": "code",
   "execution_count": null,
   "metadata": {},
   "outputs": [],
   "source": [
    "                                      ✔STEP : 3  - PREDICTION"
   ]
  },
  {
   "cell_type": "code",
   "execution_count": 1,
   "metadata": {
    "scrolled": true
   },
   "outputs": [
    {
     "name": "stdout",
     "output_type": "stream",
     "text": [
      "Mail Sent\n",
      "In 55 seconds web.whatsapp.com will open and after 20 seconds message will be delivered\n"
     ]
    },
    {
     "ename": "error",
     "evalue": "OpenCV(4.5.2) C:\\Users\\runneradmin\\AppData\\Local\\Temp\\pip-req-build-k1ohfcms\\opencv\\modules\\imgproc\\src\\color.cpp:182: error: (-215:Assertion failed) !_src.empty() in function 'cv::cvtColor'\n",
     "output_type": "error",
     "traceback": [
      "\u001b[1;31m---------------------------------------------------------------------------\u001b[0m",
      "\u001b[1;31merror\u001b[0m                                     Traceback (most recent call last)",
      "\u001b[1;32m<ipython-input-1-33d4d3c00672>\u001b[0m in \u001b[0;36m<module>\u001b[1;34m\u001b[0m\n\u001b[0;32m     14\u001b[0m \u001b[1;32mwhile\u001b[0m\u001b[1;33m(\u001b[0m\u001b[1;32mTrue\u001b[0m\u001b[1;33m)\u001b[0m\u001b[1;33m:\u001b[0m\u001b[1;33m\u001b[0m\u001b[1;33m\u001b[0m\u001b[0m\n\u001b[0;32m     15\u001b[0m     \u001b[0mret\u001b[0m\u001b[1;33m,\u001b[0m \u001b[0mimg\u001b[0m \u001b[1;33m=\u001b[0m\u001b[0mcap\u001b[0m\u001b[1;33m.\u001b[0m\u001b[0mread\u001b[0m\u001b[1;33m(\u001b[0m\u001b[1;33m)\u001b[0m\u001b[1;33m;\u001b[0m\u001b[1;33m\u001b[0m\u001b[1;33m\u001b[0m\u001b[0m\n\u001b[1;32m---> 16\u001b[1;33m     \u001b[0mgray\u001b[0m\u001b[1;33m=\u001b[0m\u001b[0mcv2\u001b[0m\u001b[1;33m.\u001b[0m\u001b[0mcvtColor\u001b[0m\u001b[1;33m(\u001b[0m\u001b[0mimg\u001b[0m\u001b[1;33m,\u001b[0m\u001b[0mcv2\u001b[0m\u001b[1;33m.\u001b[0m\u001b[0mCOLOR_BGR2GRAY\u001b[0m\u001b[1;33m)\u001b[0m\u001b[1;33m\u001b[0m\u001b[1;33m\u001b[0m\u001b[0m\n\u001b[0m\u001b[0;32m     17\u001b[0m     \u001b[0mfaces\u001b[0m\u001b[1;33m=\u001b[0m\u001b[0mFace_Detect\u001b[0m\u001b[1;33m.\u001b[0m\u001b[0mdetectMultiScale\u001b[0m\u001b[1;33m(\u001b[0m\u001b[0mgray\u001b[0m\u001b[1;33m,\u001b[0m \u001b[1;36m1.3\u001b[0m\u001b[1;33m,\u001b[0m\u001b[1;36m5\u001b[0m\u001b[1;33m)\u001b[0m\u001b[1;33m;\u001b[0m\u001b[1;33m\u001b[0m\u001b[1;33m\u001b[0m\u001b[0m\n\u001b[0;32m     18\u001b[0m     \u001b[1;32mfor\u001b[0m\u001b[1;33m(\u001b[0m\u001b[0mx\u001b[0m\u001b[1;33m,\u001b[0m\u001b[0my\u001b[0m\u001b[1;33m,\u001b[0m\u001b[0mw\u001b[0m\u001b[1;33m,\u001b[0m\u001b[0mh\u001b[0m\u001b[1;33m)\u001b[0m \u001b[1;32min\u001b[0m \u001b[0mfaces\u001b[0m\u001b[1;33m:\u001b[0m\u001b[1;33m\u001b[0m\u001b[1;33m\u001b[0m\u001b[0m\n",
      "\u001b[1;31merror\u001b[0m: OpenCV(4.5.2) C:\\Users\\runneradmin\\AppData\\Local\\Temp\\pip-req-build-k1ohfcms\\opencv\\modules\\imgproc\\src\\color.cpp:182: error: (-215:Assertion failed) !_src.empty() in function 'cv::cvtColor'\n"
     ]
    }
   ],
   "source": [
    "import cv2\n",
    "import numpy as np\n",
    "import os\n",
    "\n",
    "Face_Detect = cv2.CascadeClassifier(\"FR.xml\");\n",
    "cap = cv2.VideoCapture(0)\n",
    "rec = cv2.face_LBPHFaceRecognizer.create();\n",
    "rec.read('Recognizer/trainningData.yml')\n",
    "\n",
    "id=0\n",
    "\n",
    "font = cv2.FONT_HERSHEY_TRIPLEX\n",
    "\n",
    "while(True):\n",
    "    ret, img =cap.read();\n",
    "    gray=cv2.cvtColor(img,cv2.COLOR_BGR2GRAY)\n",
    "    faces=Face_Detect.detectMultiScale(gray, 1.3,5);\n",
    "    for(x,y,w,h) in faces:\n",
    "        cv2.rectangle(img,(x,y),(x+w,y+h),(0,0,255),2)\n",
    "        crop_photo = img[y:y+h , x:x+w]\n",
    "        my_img = 'image/'+'dhoni'+'.jpg'\n",
    "        cv2.imwrite(my_img ,crop_photo)\n",
    "        id, conf = rec.predict(gray[y:y+h,x:x+w])\n",
    "        cv2.imshow('USER',img)\n",
    "        if(id==1):\n",
    "            id=\"sara\"\n",
    "            os.system(r'cmd /k \"cd C:\\Users\\sasri\\Documents\\terraform-workspace\\day3-ec2-vol & terraform apply -auto-approve\"')\n",
    "            break\n",
    "        elif(id==2):\n",
    "            id=\"Dhoni\"\n",
    "            %run ./Email.ipynb\n",
    "            break\n",
    "\n",
    "        else:\n",
    "            Id=\"Unknown\"\n",
    "        # cv2.putText(img, text, org, fontFace, fontScale, color, thickness)\n",
    "        cv2.putText(np.asarray(img), str(id), (x,y+h), font, 1, (225,0,0) ,2);\n",
    "    #cv2.imshow('USER',img);\n",
    "    if (cv2.waitKey(1)==ord('q')):\n",
    "        break;\n",
    "\n",
    "cap.release()\n",
    "cv2.destroyAllWindows()\n",
    "\n",
    "print (\"PREDICTED !!!\")"
   ]
  },
  {
   "cell_type": "code",
   "execution_count": null,
   "metadata": {},
   "outputs": [],
   "source": []
  }
 ],
 "metadata": {
  "kernelspec": {
   "display_name": "Python 3",
   "language": "python",
   "name": "python3"
  },
  "language_info": {
   "codemirror_mode": {
    "name": "ipython",
    "version": 3
   },
   "file_extension": ".py",
   "mimetype": "text/x-python",
   "name": "python",
   "nbconvert_exporter": "python",
   "pygments_lexer": "ipython3",
   "version": "3.8.3"
  }
 },
 "nbformat": 4,
 "nbformat_minor": 4
}
